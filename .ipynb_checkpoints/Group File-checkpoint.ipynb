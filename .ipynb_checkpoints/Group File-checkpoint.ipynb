{
 "cells": [
  {
   "cell_type": "code",
   "execution_count": null,
   "metadata": {},
   "outputs": [],
   "source": [
    "# import required package for data handling and analyzation\n",
    "import pandas as pd\n",
    "import numpy as np\n",
    "import re\n",
    "import statsmodels.api as sm\n",
    "from scipy import stats\n",
    "import matplotlib as plt\n",
    "import seaborn as sns\n",
    "import plotly import _version_"
   ]
  },
  {
   "cell_type": "code",
   "execution_count": null,
   "metadata": {},
   "outputs": [],
   "source": [
    "# import required packages for splitting data\n",
    "#from sklearn import model_selection\n",
    "#from sklearn.model_selection import cross_val_score\n",
    "#from sklearn.model_selection import train_test_split\n",
    "\n",
    "# import required packages for evaluating models\n",
    "#from sklearn import metrics\n",
    "#from sklearn.metrics import confusion_matrix\n",
    "#from sklearn.metrics import classification_report\n",
    "#rom sklearn.metrics import roc_auc_score\n",
    "#from sklearn.metrics import accuracy_score\n",
    "#from sklearn.metrics import precision_recall_fscore_support\n",
    "\n",
    "# import `logistic regression` model\n",
    "#from sklearn.linear_model import LogisticRegression"
   ]
  },
  {
   "cell_type": "markdown",
   "metadata": {},
   "source": [
    "# THE WAY FORWARD TO THE LIGHT\n",
    "\n",
    "    1. Selected Imputation methods by column\n",
    "       - Get code from Dawn\n",
    "    2. Normalize\n",
    "       - Code from Brian\n",
    "           - Sqrt\n",
    "           - Log\n",
    "           - 1/X\n",
    "       - Impute again for inf errors\n",
    "    3. Add calculated fields (Mike to provide code)\n",
    "       - Y1\n",
    "       - Y2\n",
    "       - C3'\n",
    "       - C5'\n",
    "       - C6'\n",
    "    4. Correlation + Heat map from Mike\n",
    "       - Pearson\n",
    "       - Kendall\n",
    "       - Spearman\n",
    "    5. Reduce to selected independent variables\n",
    "       - Use Correlation methods to eliminate Fields\n",
    "       - Use Feature Importance to determine which ones to keep\n",
    "       - Feature Engeneering of P/Sales ratio\n",
    "       - make some fields bianary\n",
    "    6. Run evaluation code"
   ]
  },
  {
   "cell_type": "code",
   "execution_count": null,
   "metadata": {},
   "outputs": [],
   "source": [
    "#initial importing of the raw data to be cleaned\n",
    "# add code to remove the -1 and the error SIC numbers\n",
    "df = pd.read_excel('Competition1_raw_data.xlsx',na_values=r'-')"
   ]
  },
  {
   "cell_type": "code",
   "execution_count": null,
   "metadata": {},
   "outputs": [],
   "source": [
    "#taking a look at the data to see if there are any visivble errors\n",
    "#10 shows \"-\" as blank values\n",
    "df.head(15)"
   ]
  },
  {
   "cell_type": "code",
   "execution_count": null,
   "metadata": {},
   "outputs": [],
   "source": [
    "df.info() # getting more info on the data\n",
    "#df.describe() #not needed at the moment because all types are objects"
   ]
  },
  {
   "cell_type": "code",
   "execution_count": null,
   "metadata": {},
   "outputs": [],
   "source": [
    "df_copy = df.copy() # making a copy of the dataframe to preserve the original data"
   ]
  },
  {
   "cell_type": "code",
   "execution_count": null,
   "metadata": {},
   "outputs": [],
   "source": [
    "#df_copy['I3'].str.split(n=4)"
   ]
  },
  {
   "cell_type": "code",
   "execution_count": null,
   "metadata": {},
   "outputs": [],
   "source": [
    "#initial attempt to change the data types\n",
    "df_copy.iloc[:,3:8].astype(float)\n",
    "df_copy.iloc[:,9:].astype(float)\n",
    "df_copy['C2'] = df_copy['C2'].astype('category')\n",
    "df_copy.info()"
   ]
  },
  {
   "cell_type": "code",
   "execution_count": null,
   "metadata": {},
   "outputs": [],
   "source": [
    "df_copy.iloc[[10,86,268,330,400,490,597,614,118,174,181,187,221,246,499,620],[0,1,2]]"
   ]
  },
  {
   "cell_type": "code",
   "execution_count": null,
   "metadata": {},
   "outputs": [],
   "source": [
    "# 1191 should be 0191 and 1783 should be 0783 change later\n",
    "missing_I3 = ['8051','5122','6798','6199','8221','3200','6099','4724','5261','7812','1191','1783','7389','7389','3663','5065']"
   ]
  },
  {
   "cell_type": "code",
   "execution_count": null,
   "metadata": {},
   "outputs": [],
   "source": [
    "df_copy.iloc[[7,134],[18,19]]"
   ]
  },
  {
   "cell_type": "code",
   "execution_count": null,
   "metadata": {},
   "outputs": [],
   "source": [
    "df_copy.iloc[7,18] = float('Nan')\n",
    "df_copy.iloc[134,19] = float('Nan')\n",
    "df_copy.iloc[[7,134],[18,19]]"
   ]
  },
  {
   "cell_type": "code",
   "execution_count": null,
   "metadata": {},
   "outputs": [],
   "source": [
    "df_copy.iloc[[10,86,268,330,400,490,597,614,118,174,181,187,221,246,499,620],2] = missing_I3\n",
    "df_copy.info()"
   ]
  },
  {
   "cell_type": "markdown",
   "metadata": {},
   "source": [
    "#### Think about this question, “Given my data … if there is a deviation from normality, will there be a material impact my results?”\n",
    "\n",
    "#### In doing so are three tests you might want to consider:\n",
    "\n",
    "    -The Shapiro-Wilk test;\n",
    "    -The Anderson-Darling test, and;\n",
    "    -The Kolmogorov-Smirnov test.\n",
    "\n",
    "#### As well, there are some visual measures to be implemented:\n",
    "\n",
    "    -Box Plots\n",
    "    -QQ Plots"
   ]
  },
  {
   "cell_type": "code",
   "execution_count": null,
   "metadata": {},
   "outputs": [],
   "source": [
    "#sm.qqplot(df_copy['C7'])"
   ]
  },
  {
   "cell_type": "code",
   "execution_count": null,
   "metadata": {},
   "outputs": [],
   "source": [
    "#float_cols = col_list\n",
    "#replacement = df_copy.loc[:,float_cols]\n",
    "#print(replacement)"
   ]
  },
  {
   "cell_type": "code",
   "execution_count": null,
   "metadata": {},
   "outputs": [],
   "source": [
    "#float_cols"
   ]
  },
  {
   "cell_type": "code",
   "execution_count": null,
   "metadata": {},
   "outputs": [],
   "source": [
    "# issolate the value of the issue then convert it to NaN\n",
    "#issue = df_copy.iloc[10,4]\n",
    "#print(issue)\n",
    "#soulution = float('Nan')\n",
    "#import re\n",
    "#df_copy.replace(to_replace= r'^-', value=soulution,regex=True, inplace =True)"
   ]
  },
  {
   "cell_type": "code",
   "execution_count": null,
   "metadata": {},
   "outputs": [],
   "source": [
    "# test if the issue is resolved and to see if unintedned values were changed\n",
    "#print(df_copy.head(11))\n",
    "#print(df_copy.iloc[162,1],df_copy.iloc[10,4])"
   ]
  },
  {
   "cell_type": "code",
   "execution_count": null,
   "metadata": {},
   "outputs": [],
   "source": [
    "# second attempt to convert dtypes to match the data dictionary\n",
    "#df_copy.iloc[:,3:8].astype(float)\n",
    "#df_copy.iloc[:,9:].astype(float)\n",
    "#df_copy['C2'] = df_copy['C2'].astype('category')\n",
    "#df_copy.dtypes"
   ]
  },
  {
   "cell_type": "code",
   "execution_count": null,
   "metadata": {},
   "outputs": [],
   "source": [
    "# now we can look a the statistical description of the data\n",
    "# also include all featured to determine if the the stock symbols and names (I1 & I2) has duplicates\n",
    "df_copy.describe(include='all')"
   ]
  },
  {
   "cell_type": "markdown",
   "metadata": {},
   "source": [
    "# Imputation Code"
   ]
  },
  {
   "cell_type": "code",
   "execution_count": null,
   "metadata": {},
   "outputs": [],
   "source": [
    "#df_mean = df_copy.fillna(df_copy.mean())\n",
    "#df_median = df_copy.fillna(df_copy.median())\n",
    "#df_mode = df_copy.fillna(df_copy.mode[0](dropna=True,numeric_only=True))"
   ]
  },
  {
   "cell_type": "code",
   "execution_count": null,
   "metadata": {},
   "outputs": [],
   "source": [
    "#df_median['C4'].head(25)"
   ]
  },
  {
   "cell_type": "code",
   "execution_count": null,
   "metadata": {},
   "outputs": [],
   "source": [
    "pd.plotting.scatter_matrix(df_mean[col_list].iloc[:,3:7])\n",
    "#p_df = df_copy.iloc[:,3:7].dropna()\n",
    "#sns.pairplot(p_df, dropna =False)\n",
    "#c_df = df_copy.iloc[:,7:12].dropna()\n",
    "#sns.pairplot(c_df, dropna =False,hue=\"C2\")\n",
    "#t_df = df_copy.iloc[:,12:17].dropna()\n",
    "#sns.pairplot(t_df, dropna =False)\n",
    "#s_df = df_copy.iloc[:,17:].dropna()\n",
    "#sns.pairplot(s_df, dropna =False)"
   ]
  },
  {
   "cell_type": "code",
   "execution_count": null,
   "metadata": {},
   "outputs": [],
   "source": [
    "# Dawn's code\n",
    "#Since none of the values are 100% normal, I think we should use the median value (vs. mean)\n",
    "#when imputing missing values for continuous variables (i.e., all but C2);\n",
    "#for the categorical variable (C2), we should use the mode.\n",
    "\n",
    "#fist make a copy of the dataframe to preserve the original data\n",
    "df_impute_copy = df_copy.copy()\n",
    "\n",
    "#Start with C2 - by determining the mode\n",
    "df_impute_copy['C2'].mode()\n",
    "\n",
    "#Since none of the values are 100% normal, I think we should use the median value (vs. mean)\n",
    "#when imputing missing values for continuous variables (i.e., all but C2);\n",
    "#for the categorical variable (C2), we should use the mode.\n",
    "\n",
    "#then impute median for P(IPO), P(H), P(L), P(1Day)\n",
    "df_impute_copy['P(IPO)'].fillna(df_impute_copy['P(IPO)'].median(), inplace=True)\n",
    "df_impute_copy['P(H)'].fillna(df_impute_copy['P(H)'].median(), inplace=True)\n",
    "df_impute_copy['P(L)'].fillna(df_impute_copy['P(L)'].median(), inplace=True)\n",
    "df_impute_copy['P(1Day)'].fillna(df_impute_copy['P(1Day)'].median(), inplace=True)\n",
    "\n",
    "#now impute median for C1, C3, C4, C5, C6, C7\n",
    "df_impute_copy['C1'].fillna(df_impute_copy['C1'].median(), inplace=True)\n",
    "df_impute_copy['C3'].fillna(df_impute_copy['C3'].median(), inplace=True)\n",
    "df_impute_copy['C4'].fillna(df_impute_copy['C4'].median(), inplace=True)\n",
    "df_impute_copy['C5'].fillna(df_impute_copy['C5'].median(), inplace=True)\n",
    "df_impute_copy['C6'].fillna(df_impute_copy['C6'].median(), inplace=True)\n",
    "df_impute_copy['C7'].fillna(df_impute_copy['C7'].median(), inplace=True)\n",
    "\n",
    "#now impute mode for C2...using the mode determined above (i.e., the series above with one number in it)\n",
    "#df_impute_copy['C2'].fillna(1.0, inplace=True)\n",
    "df_impute_copy['C2'].fillna(df_impute_copy['C2'].mode()[0],inplace=True)\n",
    "\n",
    "#now impute median for T1, T2, T3, T4, T5\n",
    "df_impute_copy['T1'].fillna(df_impute_copy['T1'].median(), inplace=True)\n",
    "df_impute_copy['T2'].fillna(df_impute_copy['T2'].median(), inplace=True)\n",
    "df_impute_copy['T3'].fillna(df_impute_copy['T3'].median(), inplace=True)\n",
    "df_impute_copy['T4'].fillna(df_impute_copy['T4'].median(), inplace=True)\n",
    "df_impute_copy['T5'].fillna(df_impute_copy['T5'].median(), inplace=True)\n",
    "\n",
    "#now impute median for S1, S2, S3\n",
    "df_impute_copy['S1'].fillna(df_impute_copy['S1'].median(), inplace=True)\n",
    "df_impute_copy['S2'].fillna(df_impute_copy['S2'].median(), inplace=True)\n",
    "df_impute_copy['S3'].fillna(df_impute_copy['S3'].median(), inplace=True)\n",
    "\n",
    "#check work\n",
    "df_impute_copy.head(15)\n",
    "\n",
    "#Double-checking via \"describe\" - all imputation done except for C2\n",
    "df_impute_copy.describe()"
   ]
  },
  {
   "cell_type": "code",
   "execution_count": null,
   "metadata": {},
   "outputs": [],
   "source": [
    "df_impute_copy.isnull().sum()"
   ]
  },
  {
   "cell_type": "markdown",
   "metadata": {},
   "source": [
    "# Visualization of the data"
   ]
  },
  {
   "cell_type": "code",
   "execution_count": null,
   "metadata": {},
   "outputs": [],
   "source": [
    "#use histogram to visualize the # of observations for IPO prices\n",
    "df_impute_copy['P(IPO)'].hist (bins=20)\n",
    "#use histogram to visualize the # of observations for IPO 1Day prices\n",
    "df_impute_copy['P(1Day)'].hist (bins=20)"
   ]
  },
  {
   "cell_type": "code",
   "execution_count": null,
   "metadata": {},
   "outputs": [],
   "source": [
    "#for feature in col_list: \n",
    " #   print(plt.pyplot.hist(df_copy[feature], bins=10,range=[0,40]))\n"
   ]
  },
  {
   "cell_type": "code",
   "execution_count": null,
   "metadata": {},
   "outputs": [],
   "source": [
    "#plt.pyplot.hist(df_copy[col_list], bins=10, range=None, density=None, weights=None, cumulative=False, bottom=None, histtype='bar', align='mid', orientation='vertical', rwidth=None, log=False, color=None, label=None, stacked=False, normed=None, data=None)"
   ]
  },
  {
   "cell_type": "code",
   "execution_count": null,
   "metadata": {},
   "outputs": [],
   "source": [
    "p_df = df_impute_copy.iloc[:,3:7].dropna()\n",
    "sns.pairplot(p_df, dropna =False)\n",
    "c_df = df_impute_copy.iloc[:,7:12].dropna()\n",
    "sns.pairplot(c_df, dropna =False,hue=\"C2\")\n",
    "t_df = df_impute_copy.iloc[:,12:17].dropna()\n",
    "sns.pairplot(t_df, dropna =False)\n",
    "s_df = df_impute_copy.iloc[:,17:].dropna()\n",
    "sns.pairplot(s_df, dropna =False)"
   ]
  },
  {
   "cell_type": "code",
   "execution_count": 31,
   "metadata": {},
   "outputs": [
    {
     "name": "stdout",
     "output_type": "stream",
     "text": [
      "(0.1180487871170044, 0.0)\n"
     ]
    }
   ],
   "source": [
    "# Create the random variables with mean 5, and sd 3\n",
    "#x_10 = stats.norm.rvs(loc=5, scale=3, size=10)\n",
    "#x_50 = stats.norm.rvs(loc=5, scale=3, size=50)\n",
    "#x_100 = stats.norm.rvs(loc=5, scale=3, size=100)\n",
    "#x_1000 = stats.norm.rvs(loc=5, scale=3, size=1000)# Print the p values\n",
    "print (stats.shapiro(p_df))\n",
    "#print stats.shapiro(x_50)\n",
    "#print stats.shapiro(x_100)\n",
    "#print stats.shapiro(x_1000)"
   ]
  },
  {
   "cell_type": "code",
   "execution_count": 32,
   "metadata": {},
   "outputs": [
    {
     "data": {
      "text/plain": [
       "['P(H)',\n",
       " 'P(L)',\n",
       " 'P(1Day)',\n",
       " 'C1',\n",
       " 'C3',\n",
       " 'C4',\n",
       " 'C5',\n",
       " 'C6',\n",
       " 'C7',\n",
       " 'T1',\n",
       " 'T2',\n",
       " 'T3',\n",
       " 'T4',\n",
       " 'T5',\n",
       " 'S1',\n",
       " 'S2',\n",
       " 'S3']"
      ]
     },
     "execution_count": 32,
     "metadata": {},
     "output_type": "execute_result"
    }
   ],
   "source": [
    "# creating a list of the float columns that need to be normalized.\n",
    "    # This excludes C2, I1, I2, and I3\n",
    "\n",
    "col_list = df_impute_copy.columns.tolist()\n",
    "del col_list[0:4]\n",
    "del col_list[4]\n",
    "col_list"
   ]
  },
  {
   "cell_type": "code",
   "execution_count": 33,
   "metadata": {},
   "outputs": [
    {
     "name": "stdout",
     "output_type": "stream",
     "text": [
      "(0.5787540674209595, 2.435843040957177e-37)\n",
      "(0.6520932912826538, 8.472509842964768e-35)\n",
      "(0.18314379453659058, 0.0)\n",
      "(0.5376947522163391, 2.5019657192297023e-38)\n",
      "(0.06939828395843506, 0.0)\n",
      "(0.984643816947937, 2.0478564692893997e-06)\n",
      "(0.2703436613082886, 2.802596928649634e-45)\n",
      "(0.2621653079986572, 1.401298464324817e-45)\n",
      "(0.26498883962631226, 1.2891945871788317e-43)\n",
      "(0.9011947512626648, 1.5088911746309485e-20)\n",
      "(0.9068135619163513, 5.64979092528379e-20)\n",
      "(0.9087802171707153, 9.094074706961417e-20)\n",
      "(0.9241844415664673, 5.043558422752225e-18)\n",
      "(0.45999985933303833, 5.693055271012434e-41)\n",
      "(0.8267456889152527, 1.787793774684028e-26)\n",
      "(0.7090387344360352, 1.0738206281634861e-32)\n",
      "(0.7925224304199219, 1.4296504181570782e-28)\n"
     ]
    }
   ],
   "source": [
    "for feature in col_list:\n",
    "    print (stats.shapiro(df_copy[feature].dropna()))"
   ]
  },
  {
   "cell_type": "code",
   "execution_count": 34,
   "metadata": {},
   "outputs": [
    {
     "name": "stdout",
     "output_type": "stream",
     "text": [
      "AxesSubplot(0.125,0.125;0.775x0.755)\n"
     ]
    },
    {
     "data": {
      "image/png": "[encoded data removed]",
      "text/plain": [
       "<Figure size 432x288 with 1 Axes>"
      ]
     },
     "metadata": {
      "needs_background": "light"
     },
     "output_type": "display_data"
    }
   ],
   "source": [
    "# Standardize the data before running the box plots\n",
    "#print(sns.boxplot(data = p_df))\n",
    "#print(sns.boxplot(data = c_df))\n",
    "#print(sns.boxplot(data = t_df))\n",
    "print(sns.boxplot(data = s_df))"
   ]
  },
  {
   "cell_type": "code",
   "execution_count": 35,
   "metadata": {},
   "outputs": [
    {
     "data": {
      "image/png": "[encoded data removed]",
      "text/plain": [
       "<Figure size 432x288 with 1 Axes>"
      ]
     },
     "metadata": {
      "needs_background": "light"
     },
     "output_type": "display_data"
    }
   ],
   "source": [
    "\n",
    "import pylab\n",
    "sm.qqplot(p_df['P(H)'],loc = 4, scale = 3, line='s')\n",
    "pylab.show()"
   ]
  },
  {
   "cell_type": "code",
   "execution_count": 36,
   "metadata": {},
   "outputs": [
    {
     "data": {
      "image/png": "[encoded data removed]",
      "text/plain": [
       "<Figure size 432x288 with 1 Axes>"
      ]
     },
     "metadata": {
      "needs_background": "light"
     },
     "output_type": "display_data"
    }
   ],
   "source": [
    "sm.qqplot(p_df,loc = 4, scale = 3, line='s')\n",
    "pylab.show()"
   ]
  },
  {
   "cell_type": "code",
   "execution_count": 37,
   "metadata": {},
   "outputs": [],
   "source": [
    "#ad_test = stats.anderson(p_df, dist='norm')\n",
    "#print(ad_test)"
   ]
  },
  {
   "cell_type": "markdown",
   "metadata": {},
   "source": [
    "# Normalization Code"
   ]
  },
  {
   "cell_type": "code",
   "execution_count": 38,
   "metadata": {},
   "outputs": [
    {
     "name": "stdout",
     "output_type": "stream",
     "text": [
      "<class 'pandas.core.frame.DataFrame'>\n",
      "RangeIndex: 682 entries, 0 to 681\n",
      "Data columns (total 39 columns):\n",
      "I1             682 non-null object\n",
      "I2             682 non-null object\n",
      "I3             682 non-null object\n",
      "P(IPO)         682 non-null float64\n",
      "P(H)           682 non-null float64\n",
      "P(L)           682 non-null float64\n",
      "P(1Day)        682 non-null float64\n",
      "C1             682 non-null float64\n",
      "C2             682 non-null category\n",
      "C3             682 non-null float64\n",
      "C4             682 non-null float64\n",
      "C5             682 non-null float64\n",
      "C6             682 non-null float64\n",
      "C7             682 non-null float64\n",
      "T1             682 non-null float64\n",
      "T2             682 non-null float64\n",
      "T3             682 non-null float64\n",
      "T4             682 non-null float64\n",
      "T5             682 non-null float64\n",
      "S1             682 non-null float64\n",
      "S2             682 non-null float64\n",
      "S3             682 non-null float64\n",
      "log_P(H)       682 non-null float64\n",
      "log_P(L)       682 non-null float64\n",
      "log_P(1Day)    682 non-null float64\n",
      "log_C1         682 non-null float64\n",
      "log_C3         366 non-null float64\n",
      "log_C4         424 non-null float64\n",
      "log_C5         682 non-null float64\n",
      "log_C6         682 non-null float64\n",
      "log_C7         682 non-null float64\n",
      "log_T1         682 non-null float64\n",
      "log_T2         682 non-null float64\n",
      "log_T3         682 non-null float64\n",
      "log_T4         682 non-null float64\n",
      "log_T5         682 non-null float64\n",
      "log_S1         682 non-null float64\n",
      "log_S2         682 non-null float64\n",
      "log_S3         682 non-null float64\n",
      "dtypes: category(1), float64(35), object(3)\n",
      "memory usage: 203.4+ KB\n"
     ]
    },
    {
     "name": "stderr",
     "output_type": "stream",
     "text": [
      "/opt/tljh/user/lib/python3.6/site-packages/ipykernel_launcher.py:7: RuntimeWarning: divide by zero encountered in log\n",
      "  import sys\n",
      "/opt/tljh/user/lib/python3.6/site-packages/ipykernel_launcher.py:7: RuntimeWarning: invalid value encountered in log\n",
      "  import sys\n"
     ]
    }
   ],
   "source": [
    "# creating the titles for the log columns and normalizing those columns by taking the log of the original columns\n",
    "log_col_list =[]\n",
    "for col in col_list:\n",
    "    col=\"log_\"+col\n",
    "    log_col_list.append(col)\n",
    "log_col_list\n",
    "df_impute_copy[log_col_list] = np.log(df_impute_copy[col_list])\n",
    "df_impute_copy.info()"
   ]
  },
  {
   "cell_type": "code",
   "execution_count": 39,
   "metadata": {},
   "outputs": [
    {
     "name": "stdout",
     "output_type": "stream",
     "text": [
      "<class 'pandas.core.frame.DataFrame'>\n",
      "RangeIndex: 682 entries, 0 to 681\n",
      "Data columns (total 56 columns):\n",
      "I1              682 non-null object\n",
      "I2              682 non-null object\n",
      "I3              682 non-null object\n",
      "P(IPO)          682 non-null float64\n",
      "P(H)            682 non-null float64\n",
      "P(L)            682 non-null float64\n",
      "P(1Day)         682 non-null float64\n",
      "C1              682 non-null float64\n",
      "C2              682 non-null category\n",
      "C3              682 non-null float64\n",
      "C4              682 non-null float64\n",
      "C5              682 non-null float64\n",
      "C6              682 non-null float64\n",
      "C7              682 non-null float64\n",
      "T1              682 non-null float64\n",
      "T2              682 non-null float64\n",
      "T3              682 non-null float64\n",
      "T4              682 non-null float64\n",
      "T5              682 non-null float64\n",
      "S1              682 non-null float64\n",
      "S2              682 non-null float64\n",
      "S3              682 non-null float64\n",
      "log_P(H)        682 non-null float64\n",
      "log_P(L)        682 non-null float64\n",
      "log_P(1Day)     682 non-null float64\n",
      "log_C1          682 non-null float64\n",
      "log_C3          366 non-null float64\n",
      "log_C4          424 non-null float64\n",
      "log_C5          682 non-null float64\n",
      "log_C6          682 non-null float64\n",
      "log_C7          682 non-null float64\n",
      "log_T1          682 non-null float64\n",
      "log_T2          682 non-null float64\n",
      "log_T3          682 non-null float64\n",
      "log_T4          682 non-null float64\n",
      "log_T5          682 non-null float64\n",
      "log_S1          682 non-null float64\n",
      "log_S2          682 non-null float64\n",
      "log_S3          682 non-null float64\n",
      "sqrt_P(H)       682 non-null float64\n",
      "sqrt_P(L)       682 non-null float64\n",
      "sqrt_P(1Day)    682 non-null float64\n",
      "sqrt_C1         682 non-null float64\n",
      "sqrt_C3         366 non-null float64\n",
      "sqrt_C4         424 non-null float64\n",
      "sqrt_C5         682 non-null float64\n",
      "sqrt_C6         682 non-null float64\n",
      "sqrt_C7         682 non-null float64\n",
      "sqrt_T1         682 non-null float64\n",
      "sqrt_T2         682 non-null float64\n",
      "sqrt_T3         682 non-null float64\n",
      "sqrt_T4         682 non-null float64\n",
      "sqrt_T5         682 non-null float64\n",
      "sqrt_S1         682 non-null float64\n",
      "sqrt_S2         682 non-null float64\n",
      "sqrt_S3         682 non-null float64\n",
      "dtypes: category(1), float64(52), object(3)\n",
      "memory usage: 293.9+ KB\n"
     ]
    },
    {
     "name": "stderr",
     "output_type": "stream",
     "text": [
      "/opt/tljh/user/lib/python3.6/site-packages/ipykernel_launcher.py:7: RuntimeWarning: invalid value encountered in sqrt\n",
      "  import sys\n"
     ]
    }
   ],
   "source": [
    "# creating the titles for the log columns and normalizing those columns by taking the sqrt of the original columns\n",
    "sqrt_col_list =[]\n",
    "for col in col_list:\n",
    "    col=\"sqrt_\"+col\n",
    "    sqrt_col_list.append(col)\n",
    "log_col_list\n",
    "df_impute_copy[sqrt_col_list] = np.sqrt(df_impute_copy[col_list])\n",
    "df_impute_copy.info()"
   ]
  },
  {
   "cell_type": "code",
   "execution_count": 40,
   "metadata": {},
   "outputs": [
    {
     "name": "stdout",
     "output_type": "stream",
     "text": [
      "<class 'pandas.core.frame.DataFrame'>\n",
      "RangeIndex: 682 entries, 0 to 681\n",
      "Data columns (total 73 columns):\n",
      "I1                 682 non-null object\n",
      "I2                 682 non-null object\n",
      "I3                 682 non-null object\n",
      "P(IPO)             682 non-null float64\n",
      "P(H)               682 non-null float64\n",
      "P(L)               682 non-null float64\n",
      "P(1Day)            682 non-null float64\n",
      "C1                 682 non-null float64\n",
      "C2                 682 non-null category\n",
      "C3                 682 non-null float64\n",
      "C4                 682 non-null float64\n",
      "C5                 682 non-null float64\n",
      "C6                 682 non-null float64\n",
      "C7                 682 non-null float64\n",
      "T1                 682 non-null float64\n",
      "T2                 682 non-null float64\n",
      "T3                 682 non-null float64\n",
      "T4                 682 non-null float64\n",
      "T5                 682 non-null float64\n",
      "S1                 682 non-null float64\n",
      "S2                 682 non-null float64\n",
      "S3                 682 non-null float64\n",
      "log_P(H)           682 non-null float64\n",
      "log_P(L)           682 non-null float64\n",
      "log_P(1Day)        682 non-null float64\n",
      "log_C1             682 non-null float64\n",
      "log_C3             366 non-null float64\n",
      "log_C4             424 non-null float64\n",
      "log_C5             682 non-null float64\n",
      "log_C6             682 non-null float64\n",
      "log_C7             682 non-null float64\n",
      "log_T1             682 non-null float64\n",
      "log_T2             682 non-null float64\n",
      "log_T3             682 non-null float64\n",
      "log_T4             682 non-null float64\n",
      "log_T5             682 non-null float64\n",
      "log_S1             682 non-null float64\n",
      "log_S2             682 non-null float64\n",
      "log_S3             682 non-null float64\n",
      "sqrt_P(H)          682 non-null float64\n",
      "sqrt_P(L)          682 non-null float64\n",
      "sqrt_P(1Day)       682 non-null float64\n",
      "sqrt_C1            682 non-null float64\n",
      "sqrt_C3            366 non-null float64\n",
      "sqrt_C4            424 non-null float64\n",
      "sqrt_C5            682 non-null float64\n",
      "sqrt_C6            682 non-null float64\n",
      "sqrt_C7            682 non-null float64\n",
      "sqrt_T1            682 non-null float64\n",
      "sqrt_T2            682 non-null float64\n",
      "sqrt_T3            682 non-null float64\n",
      "sqrt_T4            682 non-null float64\n",
      "sqrt_T5            682 non-null float64\n",
      "sqrt_S1            682 non-null float64\n",
      "sqrt_S2            682 non-null float64\n",
      "sqrt_S3            682 non-null float64\n",
      "inverse_P(H)       682 non-null float64\n",
      "inverse_P(L)       682 non-null float64\n",
      "inverse_P(1Day)    682 non-null float64\n",
      "inverse_C1         682 non-null float64\n",
      "inverse_C3         682 non-null float64\n",
      "inverse_C4         682 non-null float64\n",
      "inverse_C5         682 non-null float64\n",
      "inverse_C6         682 non-null float64\n",
      "inverse_C7         682 non-null float64\n",
      "inverse_T1         682 non-null float64\n",
      "inverse_T2         682 non-null float64\n",
      "inverse_T3         682 non-null float64\n",
      "inverse_T4         682 non-null float64\n",
      "inverse_T5         682 non-null float64\n",
      "inverse_S1         682 non-null float64\n",
      "inverse_S2         682 non-null float64\n",
      "inverse_S3         682 non-null float64\n",
      "dtypes: category(1), float64(69), object(3)\n",
      "memory usage: 384.5+ KB\n"
     ]
    }
   ],
   "source": [
    "# creating the titles for the log columns and normalizing those columns by taking the inverse of the original columns\n",
    "inverse_col_list =[]\n",
    "for col in col_list:\n",
    "    col=\"inverse_\"+col\n",
    "    inverse_col_list.append(col)\n",
    "log_col_list\n",
    "df_impute_copy[inverse_col_list] = 1/(df_impute_copy[col_list])\n",
    "df_impute_copy.info()"
   ]
  },
  {
   "cell_type": "code",
   "execution_count": 45,
   "metadata": {},
   "outputs": [
    {
     "ename": "ModuleNotFoundError",
     "evalue": "No module named 'openpyxl'",
     "output_type": "error",
     "traceback": [
      "\u001b[0;31m---------------------------------------------------------------------------\u001b[0m",
      "\u001b[0;31mModuleNotFoundError\u001b[0m                       Traceback (most recent call last)",
      "\u001b[0;32m<ipython-input-45-d66f89c9aa1a>\u001b[0m in \u001b[0;36m<module>\u001b[0;34m\u001b[0m\n\u001b[0;32m----> 1\u001b[0;31m \u001b[0;32mfrom\u001b[0m \u001b[0mopenpyxl\u001b[0m\u001b[0;34m.\u001b[0m\u001b[0mworkbook\u001b[0m \u001b[0;32mimport\u001b[0m \u001b[0mWorkbook\u001b[0m\u001b[0;34m\u001b[0m\u001b[0;34m\u001b[0m\u001b[0m\n\u001b[0m\u001b[1;32m      2\u001b[0m \u001b[0mdf_impute_copy\u001b[0m\u001b[0;34m.\u001b[0m\u001b[0mto_excel\u001b[0m\u001b[0;34m(\u001b[0m\u001b[0;34m\"output.xlsx\"\u001b[0m\u001b[0;34m)\u001b[0m\u001b[0;34m\u001b[0m\u001b[0;34m\u001b[0m\u001b[0m\n",
      "\u001b[0;31mModuleNotFoundError\u001b[0m: No module named 'openpyxl'"
     ]
    }
   ],
   "source": [
    "from openpyxl.workbook import Workbook\n",
    "df_impute_copy.to_excel(\"output.xlsx\")"
   ]
  },
  {
   "cell_type": "code",
   "execution_count": 65,
   "metadata": {},
   "outputs": [
    {
     "data": {
      "text/plain": [
       "['I1',\n",
       " 'I2',\n",
       " 'I3',\n",
       " 'P(IPO)',\n",
       " 'C2',\n",
       " 'sqrt_S3',\n",
       " 'inverse_P(H)',\n",
       " 'inverse_P(L)',\n",
       " 'inverse_P(1Day)',\n",
       " 'inverse_C1',\n",
       " 'inverse_C3',\n",
       " 'inverse_C4',\n",
       " 'inverse_C5',\n",
       " 'inverse_C6',\n",
       " 'inverse_C7',\n",
       " 'inverse_T1',\n",
       " 'inverse_T2',\n",
       " 'inverse_T3',\n",
       " 'inverse_T4',\n",
       " 'inverse_T5',\n",
       " 'inverse_S1',\n",
       " 'inverse_S2',\n",
       " 'inverse_S3']"
      ]
     },
     "execution_count": 65,
     "metadata": {},
     "output_type": "execute_result"
    }
   ],
   "source": [
    "col_list_inverse = df_impute_copy.iloc[:,[0,1,2,3,8,55,56,57,58,59,60,61,62,63,64,65,66,67,68,69,70,71,72]].columns.tolist()\n",
    "#col_list_sqrt\n",
    "#col_list_log\n",
    "col_list_inverse"
   ]
  },
  {
   "cell_type": "code",
   "execution_count": 42,
   "metadata": {},
   "outputs": [
    {
     "data": {
      "text/plain": [
       "P(IPO)     1.383767e+01\n",
       "P(H)       1.548119e+01\n",
       "P(L)       1.351504e+01\n",
       "P(1Day)    2.593477e+01\n",
       "C1         1.497288e+02\n",
       "C3         1.788904e+00\n",
       "C4         7.282201e-03\n",
       "C5         4.935776e+07\n",
       "C6         1.241519e+07\n",
       "C7         5.004600e+02\n",
       "T1         4.656344e+02\n",
       "T2         1.275861e+04\n",
       "T3         1.139584e+04\n",
       "T4         2.943539e+02\n",
       "T5         6.802206e+02\n",
       "S1         6.852353e+01\n",
       "S2         1.201043e+02\n",
       "S3         1.447592e+02\n",
       "dtype: float64"
      ]
     },
     "execution_count": 42,
     "metadata": {},
     "output_type": "execute_result"
    }
   ],
   "source": [
    "df_copy.mean()"
   ]
  },
  {
   "cell_type": "code",
   "execution_count": 43,
   "metadata": {},
   "outputs": [
    {
     "ename": "ValueError",
     "evalue": "supplied range of [0.007407407407407408, inf] is not finite",
     "output_type": "error",
     "traceback": [
      "\u001b[0;31m---------------------------------------------------------------------------\u001b[0m",
      "\u001b[0;31mValueError\u001b[0m                                Traceback (most recent call last)",
      "\u001b[0;32m<ipython-input-43-9dbca7acbd5c>\u001b[0m in \u001b[0;36m<module>\u001b[0;34m\u001b[0m\n\u001b[1;32m      1\u001b[0m \u001b[0mp_df\u001b[0m \u001b[0;34m=\u001b[0m \u001b[0mdf_impute_copy\u001b[0m\u001b[0;34m.\u001b[0m\u001b[0miloc\u001b[0m\u001b[0;34m[\u001b[0m\u001b[0;34m:\u001b[0m\u001b[0;34m,\u001b[0m\u001b[0;36m55\u001b[0m\u001b[0;34m:\u001b[0m\u001b[0;36m58\u001b[0m\u001b[0;34m]\u001b[0m\u001b[0;34m\u001b[0m\u001b[0;34m\u001b[0m\u001b[0m\n\u001b[0;32m----> 2\u001b[0;31m \u001b[0msns\u001b[0m\u001b[0;34m.\u001b[0m\u001b[0mpairplot\u001b[0m\u001b[0;34m(\u001b[0m\u001b[0mp_df\u001b[0m\u001b[0;34m,\u001b[0m \u001b[0mdropna\u001b[0m \u001b[0;34m=\u001b[0m\u001b[0;32mFalse\u001b[0m\u001b[0;34m)\u001b[0m\u001b[0;34m\u001b[0m\u001b[0;34m\u001b[0m\u001b[0m\n\u001b[0m\u001b[1;32m      3\u001b[0m \u001b[0mc_df\u001b[0m \u001b[0;34m=\u001b[0m \u001b[0mdf_impute_copy\u001b[0m\u001b[0;34m.\u001b[0m\u001b[0miloc\u001b[0m\u001b[0;34m[\u001b[0m\u001b[0;34m:\u001b[0m\u001b[0;34m,\u001b[0m\u001b[0;36m58\u001b[0m\u001b[0;34m:\u001b[0m\u001b[0;36m64\u001b[0m\u001b[0;34m]\u001b[0m\u001b[0;34m\u001b[0m\u001b[0;34m\u001b[0m\u001b[0m\n\u001b[1;32m      4\u001b[0m \u001b[0msns\u001b[0m\u001b[0;34m.\u001b[0m\u001b[0mpairplot\u001b[0m\u001b[0;34m(\u001b[0m\u001b[0mc_df\u001b[0m\u001b[0;34m,\u001b[0m \u001b[0mdropna\u001b[0m \u001b[0;34m=\u001b[0m\u001b[0;32mFalse\u001b[0m\u001b[0;34m,\u001b[0m\u001b[0mhue\u001b[0m\u001b[0;34m=\u001b[0m\u001b[0;34m\"C2\"\u001b[0m\u001b[0;34m)\u001b[0m\u001b[0;34m\u001b[0m\u001b[0;34m\u001b[0m\u001b[0m\n\u001b[1;32m      5\u001b[0m \u001b[0mt_df\u001b[0m \u001b[0;34m=\u001b[0m \u001b[0mdf_impute_copy\u001b[0m\u001b[0;34m.\u001b[0m\u001b[0miloc\u001b[0m\u001b[0;34m[\u001b[0m\u001b[0;34m:\u001b[0m\u001b[0;34m,\u001b[0m\u001b[0;36m64\u001b[0m\u001b[0;34m:\u001b[0m\u001b[0;36m69\u001b[0m\u001b[0;34m]\u001b[0m\u001b[0;34m\u001b[0m\u001b[0;34m\u001b[0m\u001b[0m\n",
      "\u001b[0;32m/opt/tljh/user/lib/python3.6/site-packages/seaborn/axisgrid.py\u001b[0m in \u001b[0;36mpairplot\u001b[0;34m(data, hue, hue_order, palette, vars, x_vars, y_vars, kind, diag_kind, markers, height, aspect, dropna, plot_kws, diag_kws, grid_kws, size)\u001b[0m\n\u001b[1;32m   2105\u001b[0m     \u001b[0;32mif\u001b[0m \u001b[0mgrid\u001b[0m\u001b[0;34m.\u001b[0m\u001b[0msquare_grid\u001b[0m\u001b[0;34m:\u001b[0m\u001b[0;34m\u001b[0m\u001b[0;34m\u001b[0m\u001b[0m\n\u001b[1;32m   2106\u001b[0m         \u001b[0;32mif\u001b[0m \u001b[0mdiag_kind\u001b[0m \u001b[0;34m==\u001b[0m \u001b[0;34m\"hist\"\u001b[0m\u001b[0;34m:\u001b[0m\u001b[0;34m\u001b[0m\u001b[0;34m\u001b[0m\u001b[0m\n\u001b[0;32m-> 2107\u001b[0;31m             \u001b[0mgrid\u001b[0m\u001b[0;34m.\u001b[0m\u001b[0mmap_diag\u001b[0m\u001b[0;34m(\u001b[0m\u001b[0mplt\u001b[0m\u001b[0;34m.\u001b[0m\u001b[0mhist\u001b[0m\u001b[0;34m,\u001b[0m \u001b[0;34m**\u001b[0m\u001b[0mdiag_kws\u001b[0m\u001b[0;34m)\u001b[0m\u001b[0;34m\u001b[0m\u001b[0;34m\u001b[0m\u001b[0m\n\u001b[0m\u001b[1;32m   2108\u001b[0m         \u001b[0;32melif\u001b[0m \u001b[0mdiag_kind\u001b[0m \u001b[0;34m==\u001b[0m \u001b[0;34m\"kde\"\u001b[0m\u001b[0;34m:\u001b[0m\u001b[0;34m\u001b[0m\u001b[0;34m\u001b[0m\u001b[0m\n\u001b[1;32m   2109\u001b[0m             \u001b[0mdiag_kws\u001b[0m\u001b[0;34m.\u001b[0m\u001b[0msetdefault\u001b[0m\u001b[0;34m(\u001b[0m\u001b[0;34m\"shade\"\u001b[0m\u001b[0;34m,\u001b[0m \u001b[0;32mTrue\u001b[0m\u001b[0;34m)\u001b[0m\u001b[0;34m\u001b[0m\u001b[0;34m\u001b[0m\u001b[0m\n",
      "\u001b[0;32m/opt/tljh/user/lib/python3.6/site-packages/seaborn/axisgrid.py\u001b[0m in \u001b[0;36mmap_diag\u001b[0;34m(self, func, **kwargs)\u001b[0m\n\u001b[1;32m   1397\u001b[0m                     \u001b[0mcolor\u001b[0m \u001b[0;34m=\u001b[0m \u001b[0mfixed_color\u001b[0m\u001b[0;34m\u001b[0m\u001b[0;34m\u001b[0m\u001b[0m\n\u001b[1;32m   1398\u001b[0m \u001b[0;34m\u001b[0m\u001b[0m\n\u001b[0;32m-> 1399\u001b[0;31m                 \u001b[0mfunc\u001b[0m\u001b[0;34m(\u001b[0m\u001b[0mdata_k\u001b[0m\u001b[0;34m,\u001b[0m \u001b[0mlabel\u001b[0m\u001b[0;34m=\u001b[0m\u001b[0mlabel_k\u001b[0m\u001b[0;34m,\u001b[0m \u001b[0mcolor\u001b[0m\u001b[0;34m=\u001b[0m\u001b[0mcolor\u001b[0m\u001b[0;34m,\u001b[0m \u001b[0;34m**\u001b[0m\u001b[0mkwargs\u001b[0m\u001b[0;34m)\u001b[0m\u001b[0;34m\u001b[0m\u001b[0;34m\u001b[0m\u001b[0m\n\u001b[0m\u001b[1;32m   1400\u001b[0m \u001b[0;34m\u001b[0m\u001b[0m\n\u001b[1;32m   1401\u001b[0m             \u001b[0mself\u001b[0m\u001b[0;34m.\u001b[0m\u001b[0m_clean_axis\u001b[0m\u001b[0;34m(\u001b[0m\u001b[0max\u001b[0m\u001b[0;34m)\u001b[0m\u001b[0;34m\u001b[0m\u001b[0;34m\u001b[0m\u001b[0m\n",
      "\u001b[0;32m/opt/tljh/user/lib/python3.6/site-packages/matplotlib/pyplot.py\u001b[0m in \u001b[0;36mhist\u001b[0;34m(x, bins, range, density, weights, cumulative, bottom, histtype, align, orientation, rwidth, log, color, label, stacked, normed, hold, data, **kwargs)\u001b[0m\n\u001b[1;32m   3135\u001b[0m                       \u001b[0mhisttype\u001b[0m\u001b[0;34m=\u001b[0m\u001b[0mhisttype\u001b[0m\u001b[0;34m,\u001b[0m \u001b[0malign\u001b[0m\u001b[0;34m=\u001b[0m\u001b[0malign\u001b[0m\u001b[0;34m,\u001b[0m \u001b[0morientation\u001b[0m\u001b[0;34m=\u001b[0m\u001b[0morientation\u001b[0m\u001b[0;34m,\u001b[0m\u001b[0;34m\u001b[0m\u001b[0;34m\u001b[0m\u001b[0m\n\u001b[1;32m   3136\u001b[0m                       \u001b[0mrwidth\u001b[0m\u001b[0;34m=\u001b[0m\u001b[0mrwidth\u001b[0m\u001b[0;34m,\u001b[0m \u001b[0mlog\u001b[0m\u001b[0;34m=\u001b[0m\u001b[0mlog\u001b[0m\u001b[0;34m,\u001b[0m \u001b[0mcolor\u001b[0m\u001b[0;34m=\u001b[0m\u001b[0mcolor\u001b[0m\u001b[0;34m,\u001b[0m \u001b[0mlabel\u001b[0m\u001b[0;34m=\u001b[0m\u001b[0mlabel\u001b[0m\u001b[0;34m,\u001b[0m\u001b[0;34m\u001b[0m\u001b[0;34m\u001b[0m\u001b[0m\n\u001b[0;32m-> 3137\u001b[0;31m                       stacked=stacked, normed=normed, data=data, **kwargs)\n\u001b[0m\u001b[1;32m   3138\u001b[0m     \u001b[0;32mfinally\u001b[0m\u001b[0;34m:\u001b[0m\u001b[0;34m\u001b[0m\u001b[0;34m\u001b[0m\u001b[0m\n\u001b[1;32m   3139\u001b[0m         \u001b[0max\u001b[0m\u001b[0;34m.\u001b[0m\u001b[0m_hold\u001b[0m \u001b[0;34m=\u001b[0m \u001b[0mwashold\u001b[0m\u001b[0;34m\u001b[0m\u001b[0;34m\u001b[0m\u001b[0m\n",
      "\u001b[0;32m/opt/tljh/user/lib/python3.6/site-packages/matplotlib/__init__.py\u001b[0m in \u001b[0;36minner\u001b[0;34m(ax, *args, **kwargs)\u001b[0m\n\u001b[1;32m   1865\u001b[0m                         \u001b[0;34m\"the Matplotlib list!)\"\u001b[0m \u001b[0;34m%\u001b[0m \u001b[0;34m(\u001b[0m\u001b[0mlabel_namer\u001b[0m\u001b[0;34m,\u001b[0m \u001b[0mfunc\u001b[0m\u001b[0;34m.\u001b[0m\u001b[0m__name__\u001b[0m\u001b[0;34m)\u001b[0m\u001b[0;34m,\u001b[0m\u001b[0;34m\u001b[0m\u001b[0;34m\u001b[0m\u001b[0m\n\u001b[1;32m   1866\u001b[0m                         RuntimeWarning, stacklevel=2)\n\u001b[0;32m-> 1867\u001b[0;31m             \u001b[0;32mreturn\u001b[0m \u001b[0mfunc\u001b[0m\u001b[0;34m(\u001b[0m\u001b[0max\u001b[0m\u001b[0;34m,\u001b[0m \u001b[0;34m*\u001b[0m\u001b[0margs\u001b[0m\u001b[0;34m,\u001b[0m \u001b[0;34m**\u001b[0m\u001b[0mkwargs\u001b[0m\u001b[0;34m)\u001b[0m\u001b[0;34m\u001b[0m\u001b[0;34m\u001b[0m\u001b[0m\n\u001b[0m\u001b[1;32m   1868\u001b[0m \u001b[0;34m\u001b[0m\u001b[0m\n\u001b[1;32m   1869\u001b[0m         inner.__doc__ = _add_data_doc(inner.__doc__,\n",
      "\u001b[0;32m/opt/tljh/user/lib/python3.6/site-packages/matplotlib/axes/_axes.py\u001b[0m in \u001b[0;36mhist\u001b[0;34m(***failed resolving arguments***)\u001b[0m\n\u001b[1;32m   6637\u001b[0m             \u001b[0;31m# this will automatically overwrite bins,\u001b[0m\u001b[0;34m\u001b[0m\u001b[0;34m\u001b[0m\u001b[0;34m\u001b[0m\u001b[0m\n\u001b[1;32m   6638\u001b[0m             \u001b[0;31m# so that each histogram uses the same bins\u001b[0m\u001b[0;34m\u001b[0m\u001b[0;34m\u001b[0m\u001b[0;34m\u001b[0m\u001b[0m\n\u001b[0;32m-> 6639\u001b[0;31m             \u001b[0mm\u001b[0m\u001b[0;34m,\u001b[0m \u001b[0mbins\u001b[0m \u001b[0;34m=\u001b[0m \u001b[0mnp\u001b[0m\u001b[0;34m.\u001b[0m\u001b[0mhistogram\u001b[0m\u001b[0;34m(\u001b[0m\u001b[0mx\u001b[0m\u001b[0;34m[\u001b[0m\u001b[0mi\u001b[0m\u001b[0;34m]\u001b[0m\u001b[0;34m,\u001b[0m \u001b[0mbins\u001b[0m\u001b[0;34m,\u001b[0m \u001b[0mweights\u001b[0m\u001b[0;34m=\u001b[0m\u001b[0mw\u001b[0m\u001b[0;34m[\u001b[0m\u001b[0mi\u001b[0m\u001b[0;34m]\u001b[0m\u001b[0;34m,\u001b[0m \u001b[0;34m**\u001b[0m\u001b[0mhist_kwargs\u001b[0m\u001b[0;34m)\u001b[0m\u001b[0;34m\u001b[0m\u001b[0;34m\u001b[0m\u001b[0m\n\u001b[0m\u001b[1;32m   6640\u001b[0m             \u001b[0mm\u001b[0m \u001b[0;34m=\u001b[0m \u001b[0mm\u001b[0m\u001b[0;34m.\u001b[0m\u001b[0mastype\u001b[0m\u001b[0;34m(\u001b[0m\u001b[0mfloat\u001b[0m\u001b[0;34m)\u001b[0m  \u001b[0;31m# causes problems later if it's an int\u001b[0m\u001b[0;34m\u001b[0m\u001b[0;34m\u001b[0m\u001b[0m\n\u001b[1;32m   6641\u001b[0m             \u001b[0;32mif\u001b[0m \u001b[0mmlast\u001b[0m \u001b[0;32mis\u001b[0m \u001b[0;32mNone\u001b[0m\u001b[0;34m:\u001b[0m\u001b[0;34m\u001b[0m\u001b[0;34m\u001b[0m\u001b[0m\n",
      "\u001b[0;32m<__array_function__ internals>\u001b[0m in \u001b[0;36mhistogram\u001b[0;34m(*args, **kwargs)\u001b[0m\n",
      "\u001b[0;32m/opt/tljh/user/lib/python3.6/site-packages/numpy/lib/histograms.py\u001b[0m in \u001b[0;36mhistogram\u001b[0;34m(a, bins, range, normed, weights, density)\u001b[0m\n\u001b[1;32m    783\u001b[0m     \u001b[0ma\u001b[0m\u001b[0;34m,\u001b[0m \u001b[0mweights\u001b[0m \u001b[0;34m=\u001b[0m \u001b[0m_ravel_and_check_weights\u001b[0m\u001b[0;34m(\u001b[0m\u001b[0ma\u001b[0m\u001b[0;34m,\u001b[0m \u001b[0mweights\u001b[0m\u001b[0;34m)\u001b[0m\u001b[0;34m\u001b[0m\u001b[0;34m\u001b[0m\u001b[0m\n\u001b[1;32m    784\u001b[0m \u001b[0;34m\u001b[0m\u001b[0m\n\u001b[0;32m--> 785\u001b[0;31m     \u001b[0mbin_edges\u001b[0m\u001b[0;34m,\u001b[0m \u001b[0muniform_bins\u001b[0m \u001b[0;34m=\u001b[0m \u001b[0m_get_bin_edges\u001b[0m\u001b[0;34m(\u001b[0m\u001b[0ma\u001b[0m\u001b[0;34m,\u001b[0m \u001b[0mbins\u001b[0m\u001b[0;34m,\u001b[0m \u001b[0mrange\u001b[0m\u001b[0;34m,\u001b[0m \u001b[0mweights\u001b[0m\u001b[0;34m)\u001b[0m\u001b[0;34m\u001b[0m\u001b[0;34m\u001b[0m\u001b[0m\n\u001b[0m\u001b[1;32m    786\u001b[0m \u001b[0;34m\u001b[0m\u001b[0m\n\u001b[1;32m    787\u001b[0m     \u001b[0;31m# Histogram is an integer or a float array depending on the weights.\u001b[0m\u001b[0;34m\u001b[0m\u001b[0;34m\u001b[0m\u001b[0;34m\u001b[0m\u001b[0m\n",
      "\u001b[0;32m/opt/tljh/user/lib/python3.6/site-packages/numpy/lib/histograms.py\u001b[0m in \u001b[0;36m_get_bin_edges\u001b[0;34m(a, bins, range, weights)\u001b[0m\n\u001b[1;32m    417\u001b[0m             \u001b[0;32mraise\u001b[0m \u001b[0mValueError\u001b[0m\u001b[0;34m(\u001b[0m\u001b[0;34m'`bins` must be positive, when an integer'\u001b[0m\u001b[0;34m)\u001b[0m\u001b[0;34m\u001b[0m\u001b[0;34m\u001b[0m\u001b[0m\n\u001b[1;32m    418\u001b[0m \u001b[0;34m\u001b[0m\u001b[0m\n\u001b[0;32m--> 419\u001b[0;31m         \u001b[0mfirst_edge\u001b[0m\u001b[0;34m,\u001b[0m \u001b[0mlast_edge\u001b[0m \u001b[0;34m=\u001b[0m \u001b[0m_get_outer_edges\u001b[0m\u001b[0;34m(\u001b[0m\u001b[0ma\u001b[0m\u001b[0;34m,\u001b[0m \u001b[0mrange\u001b[0m\u001b[0;34m)\u001b[0m\u001b[0;34m\u001b[0m\u001b[0;34m\u001b[0m\u001b[0m\n\u001b[0m\u001b[1;32m    420\u001b[0m \u001b[0;34m\u001b[0m\u001b[0m\n\u001b[1;32m    421\u001b[0m     \u001b[0;32melif\u001b[0m \u001b[0mnp\u001b[0m\u001b[0;34m.\u001b[0m\u001b[0mndim\u001b[0m\u001b[0;34m(\u001b[0m\u001b[0mbins\u001b[0m\u001b[0;34m)\u001b[0m \u001b[0;34m==\u001b[0m \u001b[0;36m1\u001b[0m\u001b[0;34m:\u001b[0m\u001b[0;34m\u001b[0m\u001b[0;34m\u001b[0m\u001b[0m\n",
      "\u001b[0;32m/opt/tljh/user/lib/python3.6/site-packages/numpy/lib/histograms.py\u001b[0m in \u001b[0;36m_get_outer_edges\u001b[0;34m(a, range)\u001b[0m\n\u001b[1;32m    307\u001b[0m         \u001b[0;32mif\u001b[0m \u001b[0;32mnot\u001b[0m \u001b[0;34m(\u001b[0m\u001b[0mnp\u001b[0m\u001b[0;34m.\u001b[0m\u001b[0misfinite\u001b[0m\u001b[0;34m(\u001b[0m\u001b[0mfirst_edge\u001b[0m\u001b[0;34m)\u001b[0m \u001b[0;32mand\u001b[0m \u001b[0mnp\u001b[0m\u001b[0;34m.\u001b[0m\u001b[0misfinite\u001b[0m\u001b[0;34m(\u001b[0m\u001b[0mlast_edge\u001b[0m\u001b[0;34m)\u001b[0m\u001b[0;34m)\u001b[0m\u001b[0;34m:\u001b[0m\u001b[0;34m\u001b[0m\u001b[0;34m\u001b[0m\u001b[0m\n\u001b[1;32m    308\u001b[0m             raise ValueError(\n\u001b[0;32m--> 309\u001b[0;31m                 \"supplied range of [{}, {}] is not finite\".format(first_edge, last_edge))\n\u001b[0m\u001b[1;32m    310\u001b[0m     \u001b[0;32melif\u001b[0m \u001b[0ma\u001b[0m\u001b[0;34m.\u001b[0m\u001b[0msize\u001b[0m \u001b[0;34m==\u001b[0m \u001b[0;36m0\u001b[0m\u001b[0;34m:\u001b[0m\u001b[0;34m\u001b[0m\u001b[0;34m\u001b[0m\u001b[0m\n\u001b[1;32m    311\u001b[0m         \u001b[0;31m# handle empty arrays. Can't determine range, so use 0-1.\u001b[0m\u001b[0;34m\u001b[0m\u001b[0;34m\u001b[0m\u001b[0;34m\u001b[0m\u001b[0m\n",
      "\u001b[0;31mValueError\u001b[0m: supplied range of [0.007407407407407408, inf] is not finite"
     ]
    },
    {
     "data": {
      "image/png": "[encoded data removed]",
      "text/plain": [
       "<Figure size 540x540 with 12 Axes>"
      ]
     },
     "metadata": {
      "needs_background": "light"
     },
     "output_type": "display_data"
    }
   ],
   "source": [
    "p_df = df_impute_copy.iloc[:,55:58]\n",
    "sns.pairplot(p_df, dropna =False)\n",
    "c_df = df_impute_copy.iloc[:,58:64]\n",
    "sns.pairplot(c_df, dropna =False,hue=\"C2\")\n",
    "t_df = df_impute_copy.iloc[:,64:69]\n",
    "sns.pairplot(t_df, dropna =False)\n",
    "s_df = df_impute_copy.iloc[:,69:]\n",
    "sns.pairplot(s_df, dropna =False)"
   ]
  },
  {
   "cell_type": "markdown",
   "metadata": {},
   "source": [
    "# Correlation Code"
   ]
  },
  {
   "cell_type": "code",
   "execution_count": 66,
   "metadata": {},
   "outputs": [
    {
     "data": {
      "text/plain": [
       "<matplotlib.axes._subplots.AxesSubplot at 0x7fb9282339e8>"
      ]
     },
     "execution_count": 66,
     "metadata": {},
     "output_type": "execute_result"
    },
    {
     "data": {
      "image/png": "[encoded data removed]",
      "text/plain": [
       "<Figure size 432x288 with 2 Axes>"
      ]
     },
     "metadata": {
      "needs_background": "light"
     },
     "output_type": "display_data"
    }
   ],
   "source": [
    "# evaluates ranked variables or ordinal\n",
    "# used if we have not normalized first\n",
    "# Add Corr with functions\n",
    "spearman =df_impute_copy[col_list_inverse].corr(method ='spearman')\n",
    "sns.heatmap(spearman, annot=True)"
   ]
  },
  {
   "cell_type": "code",
   "execution_count": 47,
   "metadata": {},
   "outputs": [
    {
     "ename": "SyntaxError",
     "evalue": "invalid syntax (<ipython-input-47-84665c9f747c>, line 5)",
     "output_type": "error",
     "traceback": [
      "\u001b[0;36m  File \u001b[0;32m\"<ipython-input-47-84665c9f747c>\"\u001b[0;36m, line \u001b[0;32m5\u001b[0m\n\u001b[0;31m    kendall df_impute_copy.corr(method ='kendall')\u001b[0m\n\u001b[0m                         ^\u001b[0m\n\u001b[0;31mSyntaxError\u001b[0m\u001b[0;31m:\u001b[0m invalid syntax\n"
     ]
    }
   ],
   "source": [
    "# evaluates ranked variables or ordinal\n",
    "# used if we have not normalized first\n",
    "# prefered in small samples or if there are outliers\n",
    "# more accurate than spearman\n",
    "kendall = df_impute_copy.corr(method ='kendall')\n",
    "sns.heatmap(kendall, annot=True)"
   ]
  },
  {
   "cell_type": "code",
   "execution_count": null,
   "metadata": {},
   "outputs": [],
   "source": [
    "# used to evaluate continuous variables\n",
    "# is prefered for our dataset\n",
    "# need to normalize before we calcualte\n",
    "pearson = df_impute_copy.corr(method ='pearson')\n",
    "sns.heatmap(pearson, annot=True)"
   ]
  },
  {
   "cell_type": "markdown",
   "metadata": {},
   "source": [
    "# Feature Selection to reduce the columns\n",
    "    * Split SIC Code to possibly use for feature engeneering near the end\n",
    "  *  https://towardsdatascience.com/feature-selection-using-wrapper-methods-in-python-f0d352b346f"
   ]
  },
  {
   "cell_type": "code",
   "execution_count": null,
   "metadata": {},
   "outputs": [],
   "source": [
    "#df_copy['I3'].str.split(n=4)\n",
    "#You loaded the data in a DataFrame object called dataframe now.\n",
    "\n",
    "#Let's convert the DataFrame object to a NumPy array to achieve faster computation. \n",
    "#Also, let's segregate the data into separate variables so that the features and the labels are separated.\n",
    "\n",
    "#array = dataframe.values\n",
    "#X = array[:,0:8] #features\n",
    "#Y = array[:,8] #target"
   ]
  },
  {
   "cell_type": "code",
   "execution_count": null,
   "metadata": {},
   "outputs": [],
   "source": [
    "# Import the necessary libraries first\n",
    "from sklearn.feature_selection import SelectKBest\n",
    "from sklearn.feature_selection import chi2"
   ]
  },
  {
   "cell_type": "code",
   "execution_count": null,
   "metadata": {},
   "outputs": [],
   "source": [
    "# Feature extraction\n",
    "test = SelectKBest(score_func=chi2, k=4)\n",
    "fit = test.fit(X, Y)\n",
    "\n",
    "# Summarize scores\n",
    "np.set_printoptions(precision=3)\n",
    "print(fit.scores_)\n",
    "\n",
    "features = fit.transform(X)\n",
    "# Summarize selected features\n",
    "print(features[0:5,:])"
   ]
  },
  {
   "cell_type": "markdown",
   "metadata": {},
   "source": [
    "# Calculated Fields"
   ]
  },
  {
   "cell_type": "code",
   "execution_count": null,
   "metadata": {},
   "outputs": [],
   "source": [
    "#Create variable true_value for C6P\n",
    "true_value = ((df_alt_copy['P(IPO)'] - df_alt_copy['P(mid)']) / df_alt_copy['P(mid)'])*100\n",
    "\n",
    "#Create new columns\n",
    "#Add them to df_alternate_copy\n",
    "#Create P(mid) variable\n",
    "df_alt_copy['P(mid)'] = (df_alt_copy['P(H)'] + df_alt_copy['P(L)']) / 2\n",
    "df_alt_copy['C3P'] = np.where(df_alt_copy['C3'] > 0, '1', '0')\n",
    "df_alt_copy['C5P'] = df_alt_copy['C5'] / df_alt_copy['C6']\n",
    "df_alt_copy['C6P'] = np.where(df_alt_copy['P(IPO)'] > df_alt_copy['P(mid)'], true_value, '0')\n",
    "df_alt_copy['Y1'] = np.where(df_alt_copy['P(IPO)'] < df_alt_copy['P(mid)'], '1', '0')\n",
    "df_alt_copy['Y2'] = np.where(df_alt_copy['P(IPO)'] < df_alt_copy['P(1Day)'], '1', '0')\n",
    "\n",
    "\n",
    "\n",
    "\n",
    "#if df_alt_copy['P(IPO)'] > df_alt_copy['P(mid)']:\n",
    "    #df_alt_copy['C6P'] = ((df_alt_copy['P(IPO)'] - df_alt_copy['P(mid)']) / df_alt_copy['P(mid)'])*100 \n",
    "#else :\n",
    "    #df_alt_copy['C6P'] = 0\n",
    "\n",
    "df_alt_copy.head()"
   ]
  },
  {
   "cell_type": "code",
   "execution_count": null,
   "metadata": {},
   "outputs": [],
   "source": []
  },
  {
   "cell_type": "code",
   "execution_count": null,
   "metadata": {},
   "outputs": [],
   "source": []
  },
  {
   "cell_type": "code",
   "execution_count": null,
   "metadata": {},
   "outputs": [],
   "source": []
  }
 ],
 "metadata": {
  "kernelspec": {
   "display_name": "Python 3",
   "language": "python",
   "name": "python3"
  },
  "language_info": {
   "codemirror_mode": {
    "name": "ipython",
    "version": 3
   },
   "file_extension": ".py",
   "mimetype": "text/x-python",
   "name": "python",
   "nbconvert_exporter": "python",
   "pygments_lexer": "ipython3",
   "version": "3.6.7"
  }
 },
 "nbformat": 4,
 "nbformat_minor": 4
}
